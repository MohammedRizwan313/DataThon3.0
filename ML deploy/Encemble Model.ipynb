{
 "cells": [
  {
   "cell_type": "code",
   "execution_count": null,
   "id": "d403b7d2",
   "metadata": {},
   "outputs": [],
   "source": [
    "import pandas as pd\n",
    "import numpy as np\n",
    "import nltk\n",
    "from nltk.stem import PorterStemmer,WordNetLemmatizer\n",
    "from nltk.corpus import stopwords\n",
    "from bs4 import BeautifulSoup\n",
    "import requests\n",
    "import re\n",
    "import validators\n",
    "from googletrans import Translator\n",
    "from translate import Translator\n",
    "from sklearn.feature_extraction.text import CountVectorizer\n",
    "from sklearn.feature_extraction.text import TfidfVectorizer\n",
    "from sklearn.model_selection import train_test_split\n",
    "from sklearn.linear_model import LogisticRegression\n",
    "from sklearn.metrics import accuracy_score, classification_report, confusion_matrix\n",
    "from sklearn.neighbors import KNeighborsClassifier\n",
    "from sklearn.ensemble import RandomForestClassifier,VotingClassifier\n",
    "import pickle\n",
    "from sklearn.tree import DecisionTreeClassifier\n",
    "from sklearn.naive_bayes import GaussianNB\n",
    "from sklearn.svm import SVC\n",
    "from gensim.models import Word2Vec\n",
    "from sklearn.preprocessing import StandardScaler"
   ]
  },
  {
   "cell_type": "code",
   "execution_count": null,
   "id": "706a75dd",
   "metadata": {},
   "outputs": [],
   "source": [
    "data = pd.read_csv(\"Datathon_TrainData_org.csv\")\n",
    "data.head()"
   ]
  },
  {
   "cell_type": "code",
   "execution_count": null,
   "id": "7ce13b29",
   "metadata": {},
   "outputs": [],
   "source": [
    "x_train = data[\"Text_of_Speech\"]\n",
    "y_train = data[\"Emotion\"]"
   ]
  },
  {
   "cell_type": "code",
   "execution_count": null,
   "id": "cf7f6133",
   "metadata": {},
   "outputs": [],
   "source": [
    "null_value_index = x_train.loc[x_train.isnull()].index\n",
    "print(null_value_index)"
   ]
  },
  {
   "cell_type": "code",
   "execution_count": null,
   "id": "770e8d10",
   "metadata": {},
   "outputs": [],
   "source": [
    "x_train.drop(null_value_index, axis=0,inplace = True)\n",
    "y_train.drop(null_value_index, axis=0,inplace = True)"
   ]
  },
  {
   "cell_type": "code",
   "execution_count": null,
   "id": "09117257",
   "metadata": {},
   "outputs": [],
   "source": [
    "null_value_index = y_train.loc[y_train.isnull()].index\n",
    "print(null_value_index)"
   ]
  },
  {
   "cell_type": "code",
   "execution_count": null,
   "id": "c5dbbd42",
   "metadata": {},
   "outputs": [],
   "source": [
    "x_train.drop(null_value_index, axis=0,inplace = True)\n",
    "y_train.drop(null_value_index, axis=0,inplace = True)"
   ]
  },
  {
   "cell_type": "code",
   "execution_count": null,
   "id": "394334ef",
   "metadata": {},
   "outputs": [],
   "source": [
    "y_train.isnull().sum()"
   ]
  },
  {
   "cell_type": "code",
   "execution_count": null,
   "id": "69cb46a4",
   "metadata": {},
   "outputs": [],
   "source": [
    "stop_words = stopwords.words(\"english\")"
   ]
  },
  {
   "cell_type": "code",
   "execution_count": null,
   "id": "37bcebaf",
   "metadata": {},
   "outputs": [],
   "source": [
    "def remove_un(text):\n",
    "    te = \"\"\n",
    "    for i in text.split(\"\\n\"):\n",
    "        if len(i) > 0:\n",
    "            te = te + i \n",
    "    return te"
   ]
  },
  {
   "cell_type": "code",
   "execution_count": null,
   "id": "cc5f87bf",
   "metadata": {},
   "outputs": [],
   "source": [
    "def remove_un1(text):\n",
    "    te = \"\"\n",
    "    for i in text.split(\"\\t\"):\n",
    "        if len(i) > 0:\n",
    "            te = te + i \n",
    "    return te"
   ]
  },
  {
   "cell_type": "code",
   "execution_count": null,
   "id": "5f63463c",
   "metadata": {},
   "outputs": [],
   "source": [
    "def remove_numbers(text):\n",
    "    return re.sub(r'\\d+', '', text)"
   ]
  },
  {
   "cell_type": "code",
   "execution_count": null,
   "id": "2f6a9d2d",
   "metadata": {},
   "outputs": [],
   "source": [
    "x_train = x_train.apply(remove_un)\n",
    "x_train = x_train.apply(remove_un1)\n",
    "x_train = x_train.apply(remove_numbers)"
   ]
  },
  {
   "cell_type": "code",
   "execution_count": null,
   "id": "25b8305d",
   "metadata": {},
   "outputs": [],
   "source": [
    "lem = WordNetLemmatizer()"
   ]
  },
  {
   "cell_type": "code",
   "execution_count": null,
   "id": "430850fa",
   "metadata": {},
   "outputs": [],
   "source": [
    "def removing_stop_words(text):\n",
    "    data = nltk.word_tokenize(text)\n",
    "    te = \"\"\n",
    "    for i in data:\n",
    "        if i.strip().lower() not in stop_words:\n",
    "            new = lem.lemmatize(i)\n",
    "            te = te + new + \" \"\n",
    "    return te"
   ]
  },
  {
   "cell_type": "code",
   "execution_count": null,
   "id": "de430ca2",
   "metadata": {},
   "outputs": [],
   "source": [
    "x_train = x_train.apply(removing_stop_words)"
   ]
  },
  {
   "cell_type": "code",
   "execution_count": null,
   "id": "427db70d",
   "metadata": {},
   "outputs": [],
   "source": [
    "x_train,x_test,y_train,y_test = train_test_split(x_train,y_train,test_size = 0.25,random_state = 42)"
   ]
  },
  {
   "cell_type": "code",
   "execution_count": null,
   "id": "a4282d43",
   "metadata": {},
   "outputs": [],
   "source": [
    "x_train_list = speeches = x_train.tolist()\n",
    "bag_of_words = [nltk.word_tokenize(speech.lower()) for speech in x_train_list]"
   ]
  },
  {
   "cell_type": "code",
   "execution_count": null,
   "id": "4bdb4bf7",
   "metadata": {},
   "outputs": [],
   "source": [
    "x_test_list = speeches = x_test.tolist()\n",
    "bag_of_words2 = [nltk.word_tokenize(speech.lower()) for speech in x_test_list]"
   ]
  },
  {
   "cell_type": "code",
   "execution_count": null,
   "id": "e8d7e2dd",
   "metadata": {},
   "outputs": [],
   "source": [
    "word2vec_model = Word2Vec(sentences=bag_of_words, vector_size=100, window=5, min_count=1, sg=0)\n",
    "word2vec_model.train(bag_of_words, total_examples=len(bag_of_words), epochs=10)\n",
    "vector = word2vec_model.wv['word']"
   ]
  },
  {
   "cell_type": "code",
   "execution_count": null,
   "id": "5721e160",
   "metadata": {},
   "outputs": [],
   "source": [
    "word2vec_model2 = Word2Vec(sentences=bag_of_words2, vector_size=100, window=5, min_count=1, sg=0)\n",
    "word2vec_model.train(bag_of_words2, total_examples=len(bag_of_words2), epochs=10)\n",
    "vector = word2vec_model.wv['word']"
   ]
  },
  {
   "cell_type": "code",
   "execution_count": null,
   "id": "9a46b15a",
   "metadata": {},
   "outputs": [],
   "source": [
    "def aggregate_vectors(sentence, model):\n",
    "    vector_sum = np.zeros(model.vector_size)\n",
    "    num_words = 0\n",
    "    for word in sentence:\n",
    "        if word in model.wv:\n",
    "            vector_sum += model.wv[word]\n",
    "            num_words += 1\n",
    "    if num_words > 0:\n",
    "        return vector_sum / num_words\n",
    "    else:\n",
    "        return np.zeros(model.vector_size)"
   ]
  },
  {
   "cell_type": "code",
   "execution_count": null,
   "id": "81fe4151",
   "metadata": {},
   "outputs": [],
   "source": [
    "X_train_word2vec = [aggregate_vectors(sentence, word2vec_model) for sentence in bag_of_words ]\n",
    "X_train_word2vec_matrix = np.vstack(X_train_word2vec)"
   ]
  },
  {
   "cell_type": "code",
   "execution_count": null,
   "id": "0e5dc5dd",
   "metadata": {},
   "outputs": [],
   "source": [
    "X_train_word2vec = [aggregate_vectors(sentence, word2vec_model2) for sentence in bag_of_words2]\n",
    "X_test_word2vec_matrix = np.vstack(X_train_word2vec)"
   ]
  },
  {
   "cell_type": "code",
   "execution_count": null,
   "id": "3490eb32",
   "metadata": {},
   "outputs": [],
   "source": [
    "print(len(X_train_word2vec_matrix))"
   ]
  },
  {
   "cell_type": "code",
   "execution_count": null,
   "id": "e68c466d",
   "metadata": {},
   "outputs": [],
   "source": [
    "vectorizer = TfidfVectorizer()\n",
    "X_train_count_matrix=vectorizer.fit_transform(x_train)\n",
    "# X_test_count_matrix = vectorizer.transform(x_test)"
   ]
  },
  {
   "cell_type": "markdown",
   "id": "3e8ed271",
   "metadata": {},
   "source": [
    "#### logistic regression"
   ]
  },
  {
   "cell_type": "code",
   "execution_count": null,
   "id": "aaa7e2e1",
   "metadata": {},
   "outputs": [],
   "source": [
    "logic = LogisticRegression()\n",
    "logic.fit(X_train_count_matrix,y_train)\n",
    "print(logic.score(X_train_count_matrix,y_train))\n",
    "# y_pred = logic.predict(X_test_count_matrix)\n",
    "# print(\"accuracy = \",accuracy_score(y_test,y_pred))"
   ]
  },
  {
   "cell_type": "markdown",
   "id": "af681744",
   "metadata": {},
   "source": [
    "#### using the word to vector modeel"
   ]
  },
  {
   "cell_type": "code",
   "execution_count": null,
   "id": "599d7d0d",
   "metadata": {},
   "outputs": [],
   "source": [
    "logic = LogisticRegression(max_iter=1000)\n",
    "scaler = StandardScaler()\n",
    "X_train_scaled = scaler.fit_transform(X_train_word2vec_matrix)\n",
    "\n",
    "logic.fit(X_train_scaled ,y_train)\n",
    "# print(logic.score(X_train_count_matrix,y_train))\n",
    "y_pred = logic.predict(X_test_word2vec_matrix)\n",
    "print(\"accuracy = \",accuracy_score(y_test,y_pred))"
   ]
  },
  {
   "cell_type": "markdown",
   "id": "7a51af6e",
   "metadata": {},
   "source": [
    "#### SVC"
   ]
  },
  {
   "cell_type": "code",
   "execution_count": null,
   "id": "a73ff027",
   "metadata": {},
   "outputs": [],
   "source": [
    "svc = SVC(probability=True)\n",
    "svc.fit(X_train_count_matrix,y_train)\n",
    "# print(logic.score(X_train_count_matrix,y_train))\n",
    "y_pred = svc.predict(X_test_count_matrix)\n",
    "print(\"accuracy = \",accuracy_score(y_test,y_pred))"
   ]
  },
  {
   "cell_type": "markdown",
   "id": "5e2ba253",
   "metadata": {},
   "source": [
    "#### decision Tree"
   ]
  },
  {
   "cell_type": "code",
   "execution_count": null,
   "id": "70c6731d",
   "metadata": {},
   "outputs": [],
   "source": [
    "dec = DecisionTreeClassifier()\n",
    "dec.fit(X_train_count_matrix,y_train)\n",
    "y_pred = dec.predict(X_test_count_matrix)\n",
    "print(\"accuracy = \",accuracy_score(y_test,y_pred))"
   ]
  },
  {
   "cell_type": "markdown",
   "id": "92c2310a",
   "metadata": {},
   "source": [
    "#### random forest"
   ]
  },
  {
   "cell_type": "code",
   "execution_count": null,
   "id": "83a97a82",
   "metadata": {},
   "outputs": [],
   "source": [
    "ran = RandomForestClassifier()\n",
    "ran.fit(X_train_count_matrix,y_train)\n",
    "y_pred = ran.predict(X_test_count_matrix)\n",
    "print(\"accuracy = \",accuracy_score(y_test,y_pred))"
   ]
  },
  {
   "cell_type": "markdown",
   "id": "71b7c1f7",
   "metadata": {},
   "source": [
    "#### k nearest nighbours"
   ]
  },
  {
   "cell_type": "code",
   "execution_count": null,
   "id": "80cae61d",
   "metadata": {},
   "outputs": [],
   "source": [
    "knn = KNeighborsClassifier()\n",
    "knn.fit(X_train_count_matrix,y_train)\n",
    "y_pred = knn.predict(X_test_count_matrix)\n",
    "print(\"accuracy = \",accuracy_score(y_test,y_pred))"
   ]
  },
  {
   "cell_type": "code",
   "execution_count": null,
   "id": "ab0deaa1",
   "metadata": {},
   "outputs": [],
   "source": [
    "final = VotingClassifier(estimators=[('logic', LogisticRegression()), ('SVC',SVC(probability=True)),(\"ran\",RandomForestClassifier())], voting='soft').fit(X_train_count_matrix, y_train)"
   ]
  },
  {
   "cell_type": "code",
   "execution_count": null,
   "id": "95ac7a1d",
   "metadata": {},
   "outputs": [],
   "source": [
    "ypred4 = final.predict(X_test_count_matrix)"
   ]
  },
  {
   "cell_type": "code",
   "execution_count": null,
   "id": "5247b39e",
   "metadata": {},
   "outputs": [],
   "source": [
    "accuracy_score(y_test,ypred4)"
   ]
  },
  {
   "cell_type": "code",
   "execution_count": 2,
   "id": "79cf2fd1",
   "metadata": {},
   "outputs": [
    {
     "name": "stdout",
     "output_type": "stream",
     "text": [
      "0.5391498881431767\n"
     ]
    }
   ],
   "source": [
    "print(accuracy_score)"
   ]
  },
  {
   "cell_type": "code",
   "execution_count": null,
   "id": "1e2dedb5",
   "metadata": {},
   "outputs": [],
   "source": []
  }
 ],
 "metadata": {
  "kernelspec": {
   "display_name": "Python 3 (ipykernel)",
   "language": "python",
   "name": "python3"
  },
  "language_info": {
   "codemirror_mode": {
    "name": "ipython",
    "version": 3
   },
   "file_extension": ".py",
   "mimetype": "text/x-python",
   "name": "python",
   "nbconvert_exporter": "python",
   "pygments_lexer": "ipython3",
   "version": "3.10.11"
  }
 },
 "nbformat": 4,
 "nbformat_minor": 5
}
