{
 "cells": [
  {
   "cell_type": "code",
   "execution_count": 85,
   "id": "986fa27c",
   "metadata": {},
   "outputs": [],
   "source": [
    "import pandas as pd\n",
    "import numpy as np\n",
    "import nltk\n",
    "from nltk.stem import PorterStemmer,WordNetLemmatizer\n",
    "from nltk.corpus import stopwords\n",
    "from bs4 import BeautifulSoup\n",
    "import requests\n",
    "import re\n",
    "import validators\n",
    "from googletrans import Translator\n",
    "from translate import Translator\n",
    "from sklearn.feature_extraction.text import CountVectorizer\n",
    "from sklearn.feature_extraction.text import TfidfVectorizer\n",
    "from sklearn.model_selection import train_test_split\n",
    "from sklearn.linear_model import LogisticRegression\n",
    "from sklearn.metrics import accuracy_score, classification_report, confusion_matrix\n",
    "from sklearn.neighbors import KNeighborsClassifier\n",
    "from sklearn.ensemble import RandomForestClassifier,VotingClassifier\n",
    "import pickle\n",
    "from sklearn.tree import DecisionTreeClassifier\n",
    "from sklearn.naive_bayes import GaussianNB\n",
    "from sklearn.svm import SVC"
   ]
  },
  {
   "cell_type": "code",
   "execution_count": 86,
   "id": "84961e9d",
   "metadata": {},
   "outputs": [
    {
     "data": {
      "text/html": [
       "<div>\n",
       "<style scoped>\n",
       "    .dataframe tbody tr th:only-of-type {\n",
       "        vertical-align: middle;\n",
       "    }\n",
       "\n",
       "    .dataframe tbody tr th {\n",
       "        vertical-align: top;\n",
       "    }\n",
       "\n",
       "    .dataframe thead th {\n",
       "        text-align: right;\n",
       "    }\n",
       "</style>\n",
       "<table border=\"1\" class=\"dataframe\">\n",
       "  <thead>\n",
       "    <tr style=\"text-align: right;\">\n",
       "      <th></th>\n",
       "      <th>Country</th>\n",
       "      <th>Date</th>\n",
       "      <th>Speaker</th>\n",
       "      <th>Headline</th>\n",
       "      <th>Text_of_Speech</th>\n",
       "      <th>Designation</th>\n",
       "      <th>Running President/PM</th>\n",
       "      <th>Speech Link</th>\n",
       "      <th>Emotion</th>\n",
       "      <th>Context</th>\n",
       "    </tr>\n",
       "  </thead>\n",
       "  <tbody>\n",
       "    <tr>\n",
       "      <th>0</th>\n",
       "      <td>Russia</td>\n",
       "      <td>24-01-2000</td>\n",
       "      <td>Vladimir Putin</td>\n",
       "      <td>Speech at a conference of the heads of republi...</td>\n",
       "      <td>Esteemed Mr Lebedev,\\n\\nLadies and Gentlemen:\\...</td>\n",
       "      <td>President</td>\n",
       "      <td>Vladimir Putin</td>\n",
       "      <td>http://en.kremlin.ru/events/president/transcri...</td>\n",
       "      <td>UPSET</td>\n",
       "      <td>OTHERS</td>\n",
       "    </tr>\n",
       "    <tr>\n",
       "      <th>1</th>\n",
       "      <td>USA</td>\n",
       "      <td>09-09-2021 00:00</td>\n",
       "      <td>Joe Biden</td>\n",
       "      <td>Remarks by President Biden on Fighting the COV...</td>\n",
       "      <td>THE PRESIDENT:  Good evening, my fellow Americ...</td>\n",
       "      <td>President</td>\n",
       "      <td>Joe Biden</td>\n",
       "      <td>https://www.whitehouse.gov/briefing-room/speec...</td>\n",
       "      <td>OPTIMISM</td>\n",
       "      <td>DEVELOPMENT</td>\n",
       "    </tr>\n",
       "    <tr>\n",
       "      <th>2</th>\n",
       "      <td>Russia</td>\n",
       "      <td>24-12-2004</td>\n",
       "      <td>Vladimir Putin</td>\n",
       "      <td>Excerpts from the Opening Speech at a Session ...</td>\n",
       "      <td>Good afternoon, dear colleagues,\\n\\nOur meetin...</td>\n",
       "      <td>President</td>\n",
       "      <td>Vladimir Putin</td>\n",
       "      <td>http://en.kremlin.ru/events/president/transcri...</td>\n",
       "      <td>NEUTRAL</td>\n",
       "      <td>DEVELOPMENT</td>\n",
       "    </tr>\n",
       "    <tr>\n",
       "      <th>3</th>\n",
       "      <td>USA</td>\n",
       "      <td>14-08-2014</td>\n",
       "      <td>Barack Obama</td>\n",
       "      <td>\\nStatement by the President</td>\n",
       "      <td>Good afternoon, everybody. This sound system i...</td>\n",
       "      <td>President</td>\n",
       "      <td>Barack Obama</td>\n",
       "      <td>https://obamawhitehouse.archives.gov/the-press...</td>\n",
       "      <td>NEUTRAL</td>\n",
       "      <td>INTERNATIONAL AFFAIRS</td>\n",
       "    </tr>\n",
       "    <tr>\n",
       "      <th>4</th>\n",
       "      <td>USA</td>\n",
       "      <td>26-03-2021 00:00</td>\n",
       "      <td>Joe Biden</td>\n",
       "      <td>Statement by President Biden on the Attack on ...</td>\n",
       "      <td>More Americans voted in the 2020 elections tha...</td>\n",
       "      <td>President</td>\n",
       "      <td>Joe Biden</td>\n",
       "      <td>https://www.whitehouse.gov/briefing-room/speec...</td>\n",
       "      <td>UPSET</td>\n",
       "      <td>OTHERS</td>\n",
       "    </tr>\n",
       "  </tbody>\n",
       "</table>\n",
       "</div>"
      ],
      "text/plain": [
       "  Country              Date         Speaker  \\\n",
       "0  Russia        24-01-2000  Vladimir Putin   \n",
       "1     USA  09-09-2021 00:00       Joe Biden   \n",
       "2  Russia        24-12-2004  Vladimir Putin   \n",
       "3     USA        14-08-2014    Barack Obama   \n",
       "4     USA  26-03-2021 00:00       Joe Biden   \n",
       "\n",
       "                                            Headline  \\\n",
       "0  Speech at a conference of the heads of republi...   \n",
       "1  Remarks by President Biden on Fighting the COV...   \n",
       "2  Excerpts from the Opening Speech at a Session ...   \n",
       "3                       \\nStatement by the President   \n",
       "4  Statement by President Biden on the Attack on ...   \n",
       "\n",
       "                                      Text_of_Speech Designation  \\\n",
       "0  Esteemed Mr Lebedev,\\n\\nLadies and Gentlemen:\\...   President   \n",
       "1  THE PRESIDENT:  Good evening, my fellow Americ...   President   \n",
       "2  Good afternoon, dear colleagues,\\n\\nOur meetin...   President   \n",
       "3  Good afternoon, everybody. This sound system i...   President   \n",
       "4  More Americans voted in the 2020 elections tha...   President   \n",
       "\n",
       "  Running President/PM                                        Speech Link  \\\n",
       "0       Vladimir Putin  http://en.kremlin.ru/events/president/transcri...   \n",
       "1            Joe Biden  https://www.whitehouse.gov/briefing-room/speec...   \n",
       "2       Vladimir Putin  http://en.kremlin.ru/events/president/transcri...   \n",
       "3         Barack Obama  https://obamawhitehouse.archives.gov/the-press...   \n",
       "4            Joe Biden  https://www.whitehouse.gov/briefing-room/speec...   \n",
       "\n",
       "    Emotion                Context  \n",
       "0     UPSET                 OTHERS  \n",
       "1  OPTIMISM            DEVELOPMENT  \n",
       "2   NEUTRAL            DEVELOPMENT  \n",
       "3   NEUTRAL  INTERNATIONAL AFFAIRS  \n",
       "4     UPSET                 OTHERS  "
      ]
     },
     "execution_count": 86,
     "metadata": {},
     "output_type": "execute_result"
    }
   ],
   "source": [
    "data = pd.read_csv(\"./Datathon_TrainData_org.csv\")\n",
    "data.head()\n",
    "# final_test_data = pd.read_csv(\"./TestData_org.csv\")"
   ]
  },
  {
   "cell_type": "code",
   "execution_count": 87,
   "id": "7b8a1fa8",
   "metadata": {},
   "outputs": [],
   "source": [
    "x_train = data[\"Text_of_Speech\"]\n",
    "y_train = data[\"Emotion\"]\n",
    "final_pred = final_test_data[\"Text_of_Speech\"]"
   ]
  },
  {
   "cell_type": "code",
   "execution_count": 88,
   "id": "a7d04140",
   "metadata": {},
   "outputs": [],
   "source": [
    "stop_words = stopwords.words(\"english\")"
   ]
  },
  {
   "cell_type": "code",
   "execution_count": 89,
   "id": "d20e56a4",
   "metadata": {},
   "outputs": [],
   "source": [
    "def remove_un(text):\n",
    "    te = \"\"\n",
    "    for i in text.split(\"\\n\"):\n",
    "        if len(i) > 0:\n",
    "            te = te + i \n",
    "    return te"
   ]
  },
  {
   "cell_type": "code",
   "execution_count": 90,
   "id": "feb9b437",
   "metadata": {},
   "outputs": [],
   "source": [
    "def remove_un1(text):\n",
    "    te = \"\"\n",
    "    for i in text.split(\"\\t\"):\n",
    "        if len(i) > 0:\n",
    "            te = te + i \n",
    "    return te"
   ]
  },
  {
   "cell_type": "code",
   "execution_count": 91,
   "id": "9344d318",
   "metadata": {},
   "outputs": [],
   "source": [
    "final_pred = final_pred.apply(remove_un)\n",
    "final_pred = final_pred.apply(remove_un1)"
   ]
  },
  {
   "cell_type": "code",
   "execution_count": 92,
   "id": "b076d8b9",
   "metadata": {},
   "outputs": [],
   "source": [
    "x_train = x_train.apply(remove_un)\n",
    "x_train = x_train.apply(remove_un1)"
   ]
  },
  {
   "cell_type": "code",
   "execution_count": 93,
   "id": "630be9a3",
   "metadata": {},
   "outputs": [
    {
     "data": {
      "text/plain": [
       "0      Good evening, everybody.  Please have a seat. ...\n",
       "1      Colleagues, we are meeting out of schedule tod...\n",
       "2      Now, one other thing I want to point out -- so...\n",
       "3      Good afternoon, everyone.  I just had the oppo...\n",
       "4       Well, I’ve got my team here to talk about Ebo...\n",
       "                             ...                        \n",
       "397    THE PRESIDENT:  Thank you.  Thank you very muc...\n",
       "398    Good afternoon, dear colleagues,Today we are e...\n",
       "399    Colleagues, welcome to this traditional meetin...\n",
       "400     Hi everybody.  Right now, the United States S...\n",
       "401    THE PRESIDENT:  Jocelyn, thank you.  Please.  ...\n",
       "Name: Text_of_Speech, Length: 402, dtype: object"
      ]
     },
     "execution_count": 93,
     "metadata": {},
     "output_type": "execute_result"
    }
   ],
   "source": [
    "final_pred"
   ]
  },
  {
   "cell_type": "code",
   "execution_count": 94,
   "id": "e3e04f3b",
   "metadata": {},
   "outputs": [],
   "source": [
    "lem = WordNetLemmatizer()"
   ]
  },
  {
   "cell_type": "code",
   "execution_count": 95,
   "id": "73e2286d",
   "metadata": {},
   "outputs": [],
   "source": [
    "def removing_stop_words(text):\n",
    "    data = nltk.word_tokenize(text)\n",
    "    te = \"\"\n",
    "    for i in data:\n",
    "        if i.strip().lower() not in stop_words:\n",
    "            new = lem.lemmatize(i)\n",
    "            te = te + new + \" \"\n",
    "    return te\n",
    "        "
   ]
  },
  {
   "cell_type": "code",
   "execution_count": 96,
   "id": "4e92fc8e",
   "metadata": {},
   "outputs": [],
   "source": [
    "x_train = x_train.apply(removing_stop_words)"
   ]
  },
  {
   "cell_type": "code",
   "execution_count": 97,
   "id": "fcc7fa25",
   "metadata": {},
   "outputs": [],
   "source": [
    "vectorizer = TfidfVectorizer()\n",
    "X_train_count_matrix=vectorizer.fit_transform(x_train,y_train)\n",
    "\n",
    "# new_model = LogisticRegression()\n",
    "# new_model.fit(X_train_count_matrix, y_train)"
   ]
  },
  {
   "cell_type": "code",
   "execution_count": 69,
   "id": "1d2c3919",
   "metadata": {},
   "outputs": [],
   "source": [
    "final = VotingClassifier(estimators=[('logic', LogisticRegression()), ('SVC',SVC(probability=True)),(\"random\",RandomForestClassifier())], voting='soft').fit(X_train_count_matrix, y_train)"
   ]
  },
  {
   "cell_type": "code",
   "execution_count": 82,
   "id": "b545a95c",
   "metadata": {},
   "outputs": [],
   "source": [
    "X_test_count_matrix = vectorizer.transform(final_pred)"
   ]
  },
  {
   "cell_type": "code",
   "execution_count": 83,
   "id": "bbe14a3e",
   "metadata": {},
   "outputs": [],
   "source": [
    "ypred4 = final.predict(X_train_count_matrix)"
   ]
  },
  {
   "cell_type": "code",
   "execution_count": 98,
   "id": "ded309c5",
   "metadata": {},
   "outputs": [
    {
     "name": "stdout",
     "output_type": "stream",
     "text": [
      "49.563\n"
     ]
    }
   ],
   "source": [
    "print(final.score(X_train_count_matrix,y_train))"
   ]
  },
  {
   "cell_type": "code",
   "execution_count": 233,
   "id": "26306426",
   "metadata": {},
   "outputs": [],
   "source": [
    "with open('final_model.pkl', 'wb') as model_file:\n",
    "    pickle.dump(final, model_file)"
   ]
  },
  {
   "cell_type": "code",
   "execution_count": 245,
   "id": "5d01f72b",
   "metadata": {},
   "outputs": [],
   "source": [
    "import csv\n",
    "file_name = 'output.csv'\n",
    "\n",
    "# Writing to CSV file\n",
    "with open(file_name, mode='w', newline=\"\") as file:\n",
    "    writer = csv.writer(file)\n",
    "#     writer.writerow(['Name'])\n",
    "    writer.writerows([[item] for item in ypred4])"
   ]
  },
  {
   "cell_type": "code",
   "execution_count": null,
   "id": "8704e87d",
   "metadata": {},
   "outputs": [],
   "source": []
  }
 ],
 "metadata": {
  "kernelspec": {
   "display_name": "Python 3 (ipykernel)",
   "language": "python",
   "name": "python3"
  },
  "language_info": {
   "codemirror_mode": {
    "name": "ipython",
    "version": 3
   },
   "file_extension": ".py",
   "mimetype": "text/x-python",
   "name": "python",
   "nbconvert_exporter": "python",
   "pygments_lexer": "ipython3",
   "version": "3.9.7"
  }
 },
 "nbformat": 4,
 "nbformat_minor": 5
}
